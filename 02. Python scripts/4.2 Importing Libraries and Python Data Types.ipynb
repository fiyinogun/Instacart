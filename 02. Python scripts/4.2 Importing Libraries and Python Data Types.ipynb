{
 "cells": [
  {
   "cell_type": "markdown",
   "id": "1d67b1f5",
   "metadata": {},
   "source": [
    "# 01. Importing libraries"
   ]
  },
  {
   "cell_type": "code",
   "execution_count": 1,
   "id": "18cc4c18",
   "metadata": {},
   "outputs": [],
   "source": [
    "# Import libraries\n",
    "import pandas as pd\n",
    "import numpy as np\n",
    "import os"
   ]
  },
  {
   "cell_type": "markdown",
   "id": "d62921c2",
   "metadata": {},
   "source": [
    "# 02. Python data types"
   ]
  },
  {
   "cell_type": "markdown",
   "id": "f13dad61",
   "metadata": {},
   "source": [
    "##### 7. Code three different ways of reaching a result of 100."
   ]
  },
  {
   "cell_type": "code",
   "execution_count": 2,
   "id": "188a7824",
   "metadata": {},
   "outputs": [],
   "source": [
    "a = 2\n",
    "b = 50\n",
    "c = 10\n",
    "d = 90\n",
    "e = 150\n",
    "f = 250"
   ]
  },
  {
   "cell_type": "code",
   "execution_count": 4,
   "id": "6e7f07e1",
   "metadata": {},
   "outputs": [
    {
     "data": {
      "text/plain": [
       "100"
      ]
     },
     "execution_count": 4,
     "metadata": {},
     "output_type": "execute_result"
    }
   ],
   "source": [
    "a * b"
   ]
  },
  {
   "cell_type": "code",
   "execution_count": 5,
   "id": "0705a1f1",
   "metadata": {},
   "outputs": [
    {
     "data": {
      "text/plain": [
       "100"
      ]
     },
     "execution_count": 5,
     "metadata": {},
     "output_type": "execute_result"
    }
   ],
   "source": [
    "c + d"
   ]
  },
  {
   "cell_type": "code",
   "execution_count": 6,
   "id": "1f4e615f",
   "metadata": {},
   "outputs": [
    {
     "data": {
      "text/plain": [
       "100"
      ]
     },
     "execution_count": 6,
     "metadata": {},
     "output_type": "execute_result"
    }
   ],
   "source": [
    "f - e"
   ]
  },
  {
   "cell_type": "markdown",
   "id": "b96ff3bd",
   "metadata": {},
   "source": [
    "#### 8. Code two floating point variables and divide them by each other."
   ]
  },
  {
   "cell_type": "code",
   "execution_count": 7,
   "id": "07a262bd",
   "metadata": {},
   "outputs": [],
   "source": [
    "x = 34.45\n",
    "y = 5.65"
   ]
  },
  {
   "cell_type": "code",
   "execution_count": 8,
   "id": "e8c086fa",
   "metadata": {},
   "outputs": [
    {
     "data": {
      "text/plain": [
       "6.097345132743363"
      ]
     },
     "execution_count": 8,
     "metadata": {},
     "output_type": "execute_result"
    }
   ],
   "source": [
    "x / y"
   ]
  },
  {
   "cell_type": "markdown",
   "id": "d3d74024",
   "metadata": {},
   "source": [
    "#### 9. Construct a short word made of separate strings"
   ]
  },
  {
   "cell_type": "code",
   "execution_count": 10,
   "id": "7ef5e5e4",
   "metadata": {},
   "outputs": [
    {
     "data": {
      "text/plain": [
       "'Introduction'"
      ]
     },
     "execution_count": 10,
     "metadata": {},
     "output_type": "execute_result"
    }
   ],
   "source": [
    "'Intro' + 'duction'"
   ]
  },
  {
   "cell_type": "markdown",
   "id": "04ef9b7b",
   "metadata": {},
   "source": [
    "#### 10. Construct two short sentences made of separate strings"
   ]
  },
  {
   "cell_type": "code",
   "execution_count": 15,
   "id": "d7886bb0",
   "metadata": {},
   "outputs": [
    {
     "data": {
      "text/plain": [
       "'Intro to Python'"
      ]
     },
     "execution_count": 15,
     "metadata": {},
     "output_type": "execute_result"
    }
   ],
   "source": [
    "#1\n",
    "'Intro ' + 'to ' + 'Python'"
   ]
  },
  {
   "cell_type": "code",
   "execution_count": 13,
   "id": "7438f07d",
   "metadata": {},
   "outputs": [
    {
     "data": {
      "text/plain": [
       "'Python for Data Analysts'"
      ]
     },
     "execution_count": 13,
     "metadata": {},
     "output_type": "execute_result"
    }
   ],
   "source": [
    "#2\n",
    "'Python ' + 'for ' + 'Data ' + 'Analysts'"
   ]
  },
  {
   "cell_type": "markdown",
   "id": "da1f431a",
   "metadata": {},
   "source": [
    "#### Bonus Task"
   ]
  },
  {
   "cell_type": "code",
   "execution_count": 14,
   "id": "9e98c24d",
   "metadata": {},
   "outputs": [
    {
     "data": {
      "text/plain": [
       "'python python python python python python python python python python python python python python python python python python python python python python python python python python python python python python python python python python python python python python python python python python python python python python python python python python python python python python python python python python python python python python python python python python python python python python python python python python python python python python python python python python python python python python python python python python python python python python python python python python python python '"
      ]
     },
     "execution_count": 14,
     "metadata": {},
     "output_type": "execute_result"
    }
   ],
   "source": [
    "'python ' * 100"
   ]
  }
 ],
 "metadata": {
  "kernelspec": {
   "display_name": "Python 3 (ipykernel)",
   "language": "python",
   "name": "python3"
  },
  "language_info": {
   "codemirror_mode": {
    "name": "ipython",
    "version": 3
   },
   "file_extension": ".py",
   "mimetype": "text/x-python",
   "name": "python",
   "nbconvert_exporter": "python",
   "pygments_lexer": "ipython3",
   "version": "3.9.13"
  }
 },
 "nbformat": 4,
 "nbformat_minor": 5
}
